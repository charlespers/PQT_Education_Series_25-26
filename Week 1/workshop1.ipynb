{
  "cells": [
    {
      "cell_type": "markdown",
      "source": [
        "Link: https://tinyurl.com/pqtworkshop1"
      ],
      "metadata": {
        "id": "XWhpDwhEbB_t"
      }
    },
    {
      "cell_type": "markdown",
      "metadata": {
        "id": "9j2flBVZaPOG"
      },
      "source": [
        "# Workshop 1: Introduction to Quantitative Trading\n",
        "## Predicting Stock Prices with Simple Statistical Methods\n",
        "\n",
        "Welcome to this introductory workshop on quantitative finance! In this workshop, we'll explore:\n",
        "\n",
        "1. **Exploratory Data Analysis (EDA)** - Understanding our stock price data\n",
        "2. **Autocorrelation** - How past prices relate to future prices\n",
        "3. **Exponentially Weighted Moving Averages (EWMA)** - Creating trading signals\n",
        "4. **Statistical Testing** - Validating our signals with t-statistics\n",
        "5. **Backtesting** - Testing our strategy on historical data\n",
        "6. **Signal to Trades** - Converting predictions into actual trading decisions\n",
        "\n",
        "We'll focus on a single stock (AAPL) and try to predict the next timestep's price movement using only historical price data."
      ]
    },
    {
      "cell_type": "markdown",
      "metadata": {
        "id": "AAUYckiPaPOG"
      },
      "source": [
        "## Step 1: Load and Explore the Dataset\n",
        "\n",
        "Let's start by loading the financial data from Kaggle and exploring what's available."
      ]
    },
    {
      "cell_type": "markdown",
      "metadata": {
        "id": "1doBoYqEaPOK"
      },
      "source": [
        "## Step 2: Extract AAPL Data\n",
        "\n",
        "Now let's filter the dataset to focus on Apple (AAPL) stock and prepare it for analysis."
      ]
    },
    {
      "cell_type": "markdown",
      "metadata": {
        "id": "3iyMP7WFaPOM"
      },
      "source": [
        "## Step 3: Exploratory Data Analysis (EDA)\n",
        "\n",
        "Let's explore the AAPL stock data to understand its characteristics, trends, and patterns."
      ]
    },
    {
      "cell_type": "markdown",
      "metadata": {
        "id": "vBxDeIFAaPON"
      },
      "source": [
        "## Step 4: The Simplest Possible Prediction"
      ]
    },
    {
      "cell_type": "markdown",
      "metadata": {
        "id": "MHjSxkkbaPON"
      },
      "source": [
        "## Step 5: Evaluating our Method"
      ]
    },
    {
      "cell_type": "markdown",
      "metadata": {
        "id": "HnlzefmeaPOO"
      },
      "source": [
        "## Step 6: A Better Method -- Moving Average"
      ]
    },
    {
      "cell_type": "markdown",
      "metadata": {
        "id": "veZEfnEqaPOP"
      },
      "source": [
        "## Step 7: An Even Better Method -- EWMA"
      ]
    },
    {
      "cell_type": "markdown",
      "metadata": {
        "id": "T-xg_E-_aPOQ"
      },
      "source": [
        "## Step 8: Trading off of our \"Signal\""
      ]
    },
    {
      "cell_type": "markdown",
      "metadata": {
        "id": "ELIO2DPlaPOR"
      },
      "source": [
        "## Step 9: Improvements?"
      ]
    }
  ],
  "metadata": {
    "kernelspec": {
      "display_name": ".venv",
      "language": "python",
      "name": "python3"
    },
    "language_info": {
      "codemirror_mode": {
        "name": "ipython",
        "version": 3
      },
      "file_extension": ".py",
      "mimetype": "text/x-python",
      "name": "python",
      "nbconvert_exporter": "python",
      "pygments_lexer": "ipython3",
      "version": "3.9.21"
    },
    "colab": {
      "provenance": []
    }
  },
  "nbformat": 4,
  "nbformat_minor": 0
}